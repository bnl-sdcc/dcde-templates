{
 "cells": [
  {
   "cell_type": "code",
   "execution_count": 1,
   "metadata": {},
   "outputs": [
    {
     "name": "stdout",
     "output_type": "stream",
     "text": [
      "0.7.2\n"
     ]
    }
   ],
   "source": [
    "import parsl\n",
    "from parsl.app.app import bash_app\n",
    "print(parsl.__version__) # We expect 0.7.2 for this notebook"
   ]
  },
  {
   "cell_type": "code",
   "execution_count": null,
   "metadata": {},
   "outputs": [],
   "source": [
    "# Load the right configs. We'll need updated configs and dev work to support Summit.\n",
    "\n",
    "# The following is a config for Cori, that might be useful in porting over for the relion usecase\n",
    "# We might need a bit of handholding here due to the presence of MPI applications.\n",
    "# In parsl a block is a single unit that we request, so it maps to a single scheduler job\n",
    "# In this case, we would specify the nodes_per_block as 2X the number of relion mpi tasks we\n",
    "# can reasonably run.\n",
    "\"\"\"\n",
    "\n",
    "num_concurrent_relion_tasks_per_block = 2\n",
    "\n",
    "from parsl.config import Config\n",
    "from parsl.executors import HighThroughputExecutor\n",
    "from parsl.channels import SSHInteractiveLoginChannel\n",
    "from parsl.providers import SlurmProvider\n",
    "\n",
    "config = Config(\n",
    "    executors=[\n",
    "        HighThroughputExecutor(\n",
    "            # We use this to limit the # of workers, and therefore the # of invocations of the mpi task per job\n",
    "            max_workers=num_concurrent_relion_tasks_per_block,\n",
    "            label=\"cori\",\n",
    "            worker_debug=False,\n",
    "            address='try.parsl-project.org',\n",
    "            interchange_address='cori03-224.nersc.gov',            \n",
    "            provider=SlurmProvider(\n",
    "                partition='debug',  # Replace with partition name\n",
    "                channel=SSHInteractiveLoginChannel(\n",
    "                    hostname='cori03-224.nersc.gov',\n",
    "                    username='yadunand',                         # MUST SET PER USER\n",
    "                    script_dir='/global/homes/y/yadunand/parsl_scripts',\n",
    "                ),                \n",
    "                init_blocks=1, # Number of blocks to start with\n",
    "                min_blocks=1,  # Minimum # of blocks to maintain\n",
    "                node_per_block=2 * num_concurrent_relion_tasks_per_block,\n",
    "                # scheduler_options=\"#SBATCH --constraint=knl,quad,cache\",\n",
    "                scheduler_options=\"#SBATCH --constraint=haswell\",\n",
    "                worker_init='source ~/setup_parsl_0.7.2.sh',                \n",
    "            ),\n",
    "            working_dir='/global/homes/y/yadunand',\n",
    "            storage_access=[GlobusScheme(\n",
    "                endpoint_uuid='9d6d99eb-6d04-11e5-ba46-22000b92c6ec',\n",
    "                endpoint_path='/',\n",
    "                local_path='/')],\n",
    "        )]        \n",
    ")\n",
    "\"\"\""
   ]
  },
  {
   "cell_type": "code",
   "execution_count": 2,
   "metadata": {},
   "outputs": [
    {
     "data": {
      "text/plain": [
       "<parsl.dataflow.dflow.DataFlowKernel at 0x7f8fb8416e10>"
      ]
     },
     "execution_count": 2,
     "metadata": {},
     "output_type": "execute_result"
    }
   ],
   "source": [
    "\n",
    "\n",
    "# Try running with local_threads and mock=True to see how the bash app works\n",
    "from parsl.configs.local_threads import config\n",
    "\n",
    "# Alternative config for Cori Slurm system:\n",
    "max_concurrent_tasks = 10\n",
    "\n",
    "parsl.load(config)"
   ]
  },
  {
   "cell_type": "code",
   "execution_count": 17,
   "metadata": {},
   "outputs": [],
   "source": [
    "# The bash_app will run on a worker node\n",
    "@bash_app\n",
    "def relion_refine_mpi(job_dir=None, stdout=None, stderr=None, mock=True):\n",
    "    \"\"\"\n",
    "    Parameters\n",
    "    ----------\n",
    "    mock : (Bool)\n",
    "       when mock=True\n",
    "    \"\"\"\n",
    "    cmd_line = f'''\n",
    ". /etc/profile\n",
    "\n",
    "mkdir {job_dir} || exit\n",
    "cd {job_dir}\n",
    "cp /dtemp/mscfops/dcowley/relion_benchmark/emd_2660.map . || exit\n",
    "# ./Particles is a readonly directory:                                                                                                                                                                              \n",
    "ln -s /dtemp/mscfops/dcowley/relion_benchmark/Particles ./Particles || exit\n",
    "# ./class3d will contain our output files:                                                                                                                                                                          \n",
    "mkdir ./class3d || exit\n",
    "\n",
    "# Use Intel libraries and MPI:                                                                                                                                                                                      \n",
    "module purge                          # removes the default module set                                                                                                                                              \n",
    "module load intel/14.0.3\n",
    "module load impi/4.1.2.040\n",
    "\n",
    "# Make sure RELION binary and libraries are in PATH and LD_LIBRARY_PATH:                                                                                                                                            \n",
    "export LD_LIBRARY_PATH=/home/dcowley/relion-x86/external/fltk/lib:/home/dcowley/relion-x86/external/fftw/lib:/home/scicons/cascade/apps/relion/chimera-1.10.2/lib:$LD_LIBRARY_PATH\n",
    "export PATH=/home/dcowley/relion-x86/relion/build/bin:$PATH\n",
    "\n",
    "# This can help with debugging:                                                                                                                                                                                     \n",
    "echo\n",
    "echo \"printenv output:\"\n",
    "echo\n",
    "printenv\n",
    "echo\n",
    "echo \"ldd -r output:\"\n",
    "echo\n",
    "ldd -r `which relion_refine_mpi`\n",
    "\n",
    "set -v\n",
    "\n",
    "mpirun -n 24 `which relion_refine_mpi` \\\n",
    " --i Particles/shiny_2sets.star \\\n",
    " --ref emd_2660.map:mrc \\\n",
    " --firstiter_cc \\\n",
    " --ini_high 60 \\\n",
    " --ctf \\\n",
    " --ctf_corrected_ref \\\n",
    " --iter 1 \\\n",
    " --tau2_fudge 4 \\\n",
    " --pool 100 \\\n",
    " --dont_combine_weights_via_disc \\\n",
    " --no_parallel_disc_io \\\n",
    " --particle_diameter 360 \\\n",
    " --K 6 \\\n",
    " --flatten_solvent \\\n",
    " --zero_mask \\\n",
    " --oversampling 1 \\\n",
    " --healpix_order 2 \\\n",
    " --offset_range 5 \\\n",
    " --offset_step 2 \\\n",
    " --sym C1 \\\n",
    " --norm \\\n",
    " --scale \\\n",
    " --random_seed 0 \\\n",
    " --o class3d \n",
    " \n",
    "set +v\n",
    "    '''\n",
    "    if mock:        \n",
    "        return '''tmp_file=$(mktemp);\n",
    "cat<<EOF > $tmp_file\n",
    "{}\n",
    "EOF\n",
    "cat $tmp_file\n",
    "        '''.format(cmd_line)\n",
    "    else:\n",
    "        return cmd_line\n",
    "    "
   ]
  },
  {
   "cell_type": "code",
   "execution_count": 18,
   "metadata": {},
   "outputs": [
    {
     "data": {
      "text/plain": [
       "0"
      ]
     },
     "execution_count": 18,
     "metadata": {},
     "output_type": "execute_result"
    }
   ],
   "source": [
    "x = relion_refine_mpi(stdout=\"relion.out\", stderr=\"relion.err\")\n",
    "x.result()"
   ]
  },
  {
   "cell_type": "code",
   "execution_count": 19,
   "metadata": {},
   "outputs": [
    {
     "name": "stdout",
     "output_type": "stream",
     "text": [
      "hello\n",
      "\n",
      ". /etc/profile\n",
      "\n",
      "mkdir None || exit\n",
      "cd None\n",
      "cp /dtemp/mscfops/dcowley/relion_benchmark/emd_2660.map . || exit\n",
      "# ./Particles is a readonly directory:                                                                                                                                                                              \n",
      "ln -s /dtemp/mscfops/dcowley/relion_benchmark/Particles ./Particles || exit\n",
      "# ./class3d will contain our output files:                                                                                                                                                                          \n",
      "mkdir ./class3d || exit\n",
      "\n",
      "# Use Intel libraries and MPI:                                                                                                                                                                                      \n",
      "module purge                          # removes the default module set                                                                                                                                              \n",
      "module load intel/14.0.3\n",
      "module load impi/4.1.2.040\n",
      "\n",
      "# Make sure RELION binary and libraries are in PATH and LD_LIBRARY_PATH:                                                                                                                                            \n",
      "export LD_LIBRARY_PATH=/home/dcowley/relion-x86/external/fltk/lib:/home/dcowley/relion-x86/external/fftw/lib:/home/scicons/cascade/apps/relion/chimera-1.10.2/lib:\n",
      "export PATH=/home/dcowley/relion-x86/relion/build/bin:/home/yadu/.local/bin:/home/yadu/miniconda3/envs/mpi_executor/bin:/home/yadu/miniconda3/bin:/usr/local/heroku/bin:/home/yadu/src/google-cloud-sdk/bin:/home/yadu/src/swift-k-clean/dist/swift-svn/bin/:/home/yadu/bin/jdk1.7.0_51/bin:/home/yadu/bin/exm-install/stc/bin:/home/yadu/bin/exm-install/turbine/bin/home/yadu/bin:/home/yadu/.local/bin:/usr/local/sbin:/usr/local/bin:/usr/sbin:/usr/bin:/sbin:/bin:/usr/games:/usr/local/games:/snap/bin:/home/yadu/cctools/bin:/home/yadu/bin/mpich3-install/bin:/home/yadu/dcos/bin:/home/yadu/.fzf/bin\n",
      "\n",
      "# This can help with debugging:                                                                                                                                                                                     \n",
      "echo\n",
      "echo \"printenv output:\"\n",
      "echo\n",
      "printenv\n",
      "echo\n",
      "echo \"ldd -r output:\"\n",
      "echo\n",
      "ldd -r \n",
      "\n",
      "set -v\n",
      "\n",
      "mpirun -n 24   --i Particles/shiny_2sets.star  --ref emd_2660.map:mrc  --firstiter_cc  --ini_high 60  --ctf  --ctf_corrected_ref  --iter 1  --tau2_fudge 4  --pool 100  --dont_combine_weights_via_disc  --no_parallel_disc_io  --particle_diameter 360  --K 6  --flatten_solvent  --zero_mask  --oversampling 1  --healpix_order 2  --offset_range 5  --offset_step 2  --sym C1  --norm  --scale  --random_seed 0  --o class3d \n",
      " \n",
      " set +v\n",
      "    \n",
      "\n"
     ]
    }
   ],
   "source": [
    "with open(x.stdout, 'r') as f:\n",
    "    print(f.read())"
   ]
  }
 ],
 "metadata": {
  "kernelspec": {
   "display_name": "Python 3",
   "language": "python",
   "name": "python3"
  },
  "language_info": {
   "codemirror_mode": {
    "name": "ipython",
    "version": 3
   },
   "file_extension": ".py",
   "mimetype": "text/x-python",
   "name": "python",
   "nbconvert_exporter": "python",
   "pygments_lexer": "ipython3",
   "version": "3.7.0"
  }
 },
 "nbformat": 4,
 "nbformat_minor": 2
}
